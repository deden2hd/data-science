{
 "cells": [
  {
   "cell_type": "markdown",
   "id": "9c4d1b15-431b-441e-b8af-585109f63d31",
   "metadata": {},
   "source": [
    "# Data Science Tools and Ecosystem"
   ]
  },
  {
   "cell_type": "markdown",
   "id": "ff7fb4a7-e683-4100-acdb-28fd1c0b0457",
   "metadata": {},
   "source": [
    "In this notebook, Data Science Tools and Ecosystem are summarized."
   ]
  },
  {
   "cell_type": "markdown",
   "id": "71973c15-4026-4d72-b587-aac544b59453",
   "metadata": {},
   "source": [
    "Some of the popular languages that Data Scientists use are:"
   ]
  },
  {
   "cell_type": "markdown",
   "id": "90e5b6dc-9c8d-4bbe-acaf-4abdba8c6352",
   "metadata": {},
   "source": [
    "1. Python\n",
    "2. R\n",
    "3. SQL"
   ]
  },
  {
   "cell_type": "markdown",
   "id": "250125a5-0b43-4694-8cd8-cb96abc60b9e",
   "metadata": {},
   "source": [
    "Some of the commonly used libraries used by Data Scientists include:\n",
    "\n",
    "1. Pandas\n",
    "2. Numpy\n",
    "3. Matplotlib"
   ]
  },
  {
   "cell_type": "markdown",
   "id": "58c07cf0-30fa-4110-abbb-d5e8fa138207",
   "metadata": {},
   "source": [
    "| Data Science Tools        |\n",
    "|---------------------------|\n",
    "| Jupyter Notebook          |\n",
    "| RStudio                   |\n",
    "| Apache Zeppelin           |\n"
   ]
  },
  {
   "cell_type": "markdown",
   "id": "8024194c-abd9-4e73-a499-170e5b800973",
   "metadata": {},
   "source": [
    "### Below are a few examples of evaluating arithmetic expressions in Python"
   ]
  },
  {
   "cell_type": "code",
   "execution_count": 6,
   "id": "27212ccc-ea18-45db-b3f5-4126929c875b",
   "metadata": {},
   "outputs": [
    {
     "data": {
      "text/plain": [
       "17"
      ]
     },
     "execution_count": 6,
     "metadata": {},
     "output_type": "execute_result"
    }
   ],
   "source": [
    " # This a simple arithmetic expression to mutiply then add integers\n",
    "(3*4)+5"
   ]
  },
  {
   "cell_type": "code",
   "execution_count": 7,
   "id": "fb8074ef-157a-48a6-8d47-de84d85e1db5",
   "metadata": {},
   "outputs": [
    {
     "data": {
      "text/plain": [
       "3.3333333333333335"
      ]
     },
     "execution_count": 7,
     "metadata": {},
     "output_type": "execute_result"
    }
   ],
   "source": [
    "#This will convert 200 minutes to hours by diving by 60\n",
    "200 / 60"
   ]
  },
  {
   "cell_type": "markdown",
   "id": "5b386796-a15d-4e5c-ae97-4915a0a3065c",
   "metadata": {},
   "source": [
    "**Objective:**\n",
    "- Meringkas alat dan ekosistem Data Science\n",
    "- Membuat daftar bahasa populer yang digunakan dalam Data Science\n",
    "- Membuat daftar pustaka umum yang digunakan dalam Data Science\n",
    "- Menampilkan alat-alat open source untuk Data Science\n",
    "- Mengevaluasi ekspresi aritmatika di Python"
   ]
  },
  {
   "cell_type": "markdown",
   "id": "87c8a2b1-e994-487b-911d-f233cb7b8a54",
   "metadata": {},
   "source": [
    "## Author\n",
    "Deden Hidayat"
   ]
  },
  {
   "cell_type": "code",
   "execution_count": null,
   "id": "8bdc20f7-4cbc-426f-96b3-d41227b3c146",
   "metadata": {},
   "outputs": [],
   "source": []
  }
 ],
 "metadata": {
  "kernelspec": {
   "display_name": "Python 3 (ipykernel)",
   "language": "python",
   "name": "python3"
  },
  "language_info": {
   "codemirror_mode": {
    "name": "ipython",
    "version": 3
   },
   "file_extension": ".py",
   "mimetype": "text/x-python",
   "name": "python",
   "nbconvert_exporter": "python",
   "pygments_lexer": "ipython3",
   "version": "3.13.0"
  }
 },
 "nbformat": 4,
 "nbformat_minor": 5
}
