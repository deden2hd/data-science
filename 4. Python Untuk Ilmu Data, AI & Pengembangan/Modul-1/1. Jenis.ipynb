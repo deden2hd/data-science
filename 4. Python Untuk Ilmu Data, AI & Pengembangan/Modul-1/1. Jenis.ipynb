{
 "cells": [
  {
   "metadata": {},
   "cell_type": "markdown",
   "source": "# Data Types",
   "id": "158d6a7c977a66a2"
  },
  {
   "metadata": {},
   "cell_type": "markdown",
   "source": [
    "## Tipe Data\n",
    "Tipe data adalah klasifikasi data yang memberi tahu komputer jenis data yang disimpan"
   ],
   "id": "8ee84d73402c8b56"
  },
  {
   "metadata": {},
   "cell_type": "markdown",
   "source": [
    "## Tipe Data dasar dalam Python\n",
    "| Tipe Data | Penjelasan                     |\n",
    "|-----------|--------------------------------|\n",
    "| INT       | Tipe data bilangan bulat       |\n",
    "| STR       | Tipe data untuk kalimat        |\n",
    "| Float     | Tipe data bilangan cacah / koma |\n",
    "| BOOL      | Tipe data bernilai True/False  |\n"
   ],
   "id": "4afc80e0fd1da0f6"
  },
  {
   "metadata": {},
   "cell_type": "markdown",
   "source": [
    "## Fungsi yang digunakan dalam python\n",
    "- `type()` : Untuk mengetehui tipe data"
   ],
   "id": "dc5f21aadc075b7"
  },
  {
   "metadata": {
    "ExecuteTime": {
     "end_time": "2024-12-20T11:54:37.132738Z",
     "start_time": "2024-12-20T11:54:37.120898Z"
    }
   },
   "cell_type": "code",
   "source": [
    "nama = \"Xaviera\"\n",
    "print(type(nama))"
   ],
   "id": "31c8004a1d58eaf7",
   "outputs": [
    {
     "name": "stdout",
     "output_type": "stream",
     "text": [
      "<class 'str'>\n"
     ]
    }
   ],
   "execution_count": 2
  },
  {
   "metadata": {},
   "cell_type": "markdown",
   "source": "# Mengganti tipe data",
   "id": "76fadac1e1367ffe"
  },
  {
   "metadata": {
    "ExecuteTime": {
     "end_time": "2024-12-20T12:03:06.616271Z",
     "start_time": "2024-12-20T12:03:06.608224Z"
    }
   },
   "cell_type": "code",
   "source": [
    "bilangan = 10\n",
    "print(f\"Tipe data sebelum diganti: {type(bilangan)}\")\n",
    "bilangan = float(bilangan)\n",
    "print(f\"Tipe data Setelah diganti: {type(bilangan)}\")"
   ],
   "id": "4d612dce48087dd6",
   "outputs": [
    {
     "name": "stdout",
     "output_type": "stream",
     "text": [
      "Tipe data sebelum diganti: <class 'int'>\n",
      "Tipe data Setelah diganti: <class 'float'>\n"
     ]
    }
   ],
   "execution_count": 8
  }
 ],
 "metadata": {
  "kernelspec": {
   "display_name": "Python 3",
   "language": "python",
   "name": "python3"
  },
  "language_info": {
   "codemirror_mode": {
    "name": "ipython",
    "version": 2
   },
   "file_extension": ".py",
   "mimetype": "text/x-python",
   "name": "python",
   "nbconvert_exporter": "python",
   "pygments_lexer": "ipython2",
   "version": "2.7.6"
  }
 },
 "nbformat": 4,
 "nbformat_minor": 5
}
